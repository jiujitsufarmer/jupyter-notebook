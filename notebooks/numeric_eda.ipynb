{
 "cells": [
  {
   "cell_type": "code",
   "execution_count": null,
   "metadata": {},
   "outputs": [],
   "source": [
    "import pandas as pd\n",
    "import numpy as np"
   ]
  },
  {
   "cell_type": "code",
   "execution_count": null,
   "metadata": {},
   "outputs": [],
   "source": [
    "police_incidents = pd.read_csv('../data/police_incidents_2018.csv')"
   ]
  },
  {
   "cell_type": "markdown",
   "metadata": {},
   "source": [
    "# Questions:\n",
    "\n",
    "_For each of the below prompts, answer the following questions:_\n",
    "1. Which columns would be useful in answering the prompt?\n",
    "2. What work, if any, would have to be done to prepare the columns for analysis?\n",
    "3. For the unused columns, why were they left out?\n",
    "\n",
    "##### Prompts:\n",
    "1. What are the most common types of incidents?\n",
    "2. Where do incidents typically occur?\n",
    "3. What is the average delay between when the incident occurred and when it was reported?\n",
    "\n",
    "You do not need to answer these questions, just outline the initial steps that would need to be taken to answer them. **RECORD ALL YOUR CODE** that you write to answer the questions for each prompt. Do not delete anything, even if it doesn't lead anywhere. Its ok to fix code that produces an error"
   ]
  },
  {
   "cell_type": "code",
   "execution_count": null,
   "metadata": {},
   "outputs": [],
   "source": []
  }
 ],
 "metadata": {
  "kernelspec": {
   "display_name": "Python 3",
   "language": "python",
   "name": "python3"
  },
  "language_info": {
   "codemirror_mode": {
    "name": "ipython",
    "version": 3
   },
   "file_extension": ".py",
   "mimetype": "text/x-python",
   "name": "python",
   "nbconvert_exporter": "python",
   "pygments_lexer": "ipython3",
   "version": "3.6.10"
  }
 },
 "nbformat": 4,
 "nbformat_minor": 4
}
